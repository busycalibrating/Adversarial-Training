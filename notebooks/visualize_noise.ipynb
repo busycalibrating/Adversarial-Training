{
 "cells": [
  {
   "cell_type": "code",
   "execution_count": 2,
   "id": "70f7ab35-0e4d-4e51-8ffe-2cc19d75e430",
   "metadata": {},
   "outputs": [],
   "source": [
    "%load_ext autoreload\n",
    "%autoreload 2"
   ]
  },
  {
   "cell_type": "code",
   "execution_count": 3,
   "id": "f5d03d99-2648-4650-a0e1-e102801c8832",
   "metadata": {},
   "outputs": [],
   "source": [
    "from adv_train.scripts.train_adv import AdversarialTraining, Attacker\n",
    "import argparse\n",
    "import sys\n",
    "from pprint import pprint, pformat"
   ]
  },
  {
   "cell_type": "code",
   "execution_count": 4,
   "id": "b76a2012-0517-47bb-89b2-43d4fb87b34c",
   "metadata": {},
   "outputs": [],
   "source": [
    "import torch\n",
    "import torch.optim as optim\n",
    "import torch.nn as nn\n",
    "from torch.utils.data import DataLoader\n",
    "import torch.cuda as cuda\n",
    "\n",
    "import numpy as np\n",
    "\n",
    "from adv_train.launcher import Launcher\n",
    "from adv_train.model import (\n",
    "    DatasetType,\n",
    "    MnistModel,\n",
    "    CifarModel,\n",
    "    load_dataset,\n",
    "    load_classifier,\n",
    ")\n",
    "from adv_train.dynamic import Attacker\n",
    "from adv_train.dataset import AdversarialDataset"
   ]
  },
  {
   "cell_type": "code",
   "execution_count": 5,
   "id": "567c6ff4-ff48-468e-8031-b4c48717d246",
   "metadata": {},
   "outputs": [],
   "source": [
    "import matplotlib.pyplot as plt\n",
    "import seaborn as sns "
   ]
  },
  {
   "cell_type": "code",
   "execution_count": 6,
   "id": "4d355503-f0ba-4347-becc-383d2e085260",
   "metadata": {},
   "outputs": [],
   "source": [
    "sns.set()"
   ]
  },
  {
   "cell_type": "code",
   "execution_count": 7,
   "id": "c18df239-1caf-4744-b82a-d2682cb04fff",
   "metadata": {},
   "outputs": [],
   "source": [
    "sys.argv = ['', '--config','/home/mila/d/david-a.dobre/scratch/2022/Adversarial-Training/configs/experiments/cifar-langevin-resnet18.yml']"
   ]
  },
  {
   "cell_type": "code",
   "execution_count": 8,
   "id": "547ae230-a95d-4bdd-82a5-e27e8386da7f",
   "metadata": {},
   "outputs": [],
   "source": [
    "parser = argparse.ArgumentParser(formatter_class=argparse.ArgumentDefaultsHelpFormatter)"
   ]
  },
  {
   "cell_type": "code",
   "execution_count": 9,
   "id": "7ce1f40d-8a54-47f7-b99c-43b99625a9ff",
   "metadata": {},
   "outputs": [],
   "source": [
    "parser = Attacker.add_arguments(parser)\n",
    "parser = AdversarialTraining.add_argument(parser)"
   ]
  },
  {
   "cell_type": "code",
   "execution_count": 10,
   "id": "648079a8-3a34-4ffa-8d53-6702a1b96a87",
   "metadata": {},
   "outputs": [],
   "source": [
    "args = AdversarialTraining.parse_args_with_config(parser)"
   ]
  },
  {
   "cell_type": "code",
   "execution_count": 11,
   "id": "8c7f70c8-fa14-4d5d-b624-96687170fd3f",
   "metadata": {},
   "outputs": [],
   "source": [
    "args.seed=0"
   ]
  },
  {
   "cell_type": "code",
   "execution_count": 12,
   "id": "45590c07-e135-453f-83ac-d80d1955a5cd",
   "metadata": {},
   "outputs": [
    {
     "name": "stdout",
     "output_type": "stream",
     "text": [
      "{'attacker_type': <Attacker.LANGEVIN: 'langevin'>,\n",
      " 'batch_size': 128,\n",
      " 'config': '/home/mila/d/david-a.dobre/scratch/2022/Adversarial-Training/configs/experiments/cifar-langevin-resnet18.yml',\n",
      " 'dataset': <DatasetType.CIFAR: 'cifar'>,\n",
      " 'dest': None,\n",
      " 'eps_iter': 8.0,\n",
      " 'eval_adv': <Attacker.PGD_40: 'pgd-40'>,\n",
      " 'eval_clean_flag': True,\n",
      " 'eval_name': None,\n",
      " 'fancy_db_name': True,\n",
      " 'log_dir': './logs',\n",
      " 'lr': 0.1,\n",
      " 'model_dir': None,\n",
      " 'n_adv': 1,\n",
      " 'n_epochs': 100,\n",
      " 'nb_iter': 1,\n",
      " 'noise_scale': 0.2,\n",
      " 'noise_type': <NoiseType.NORMAL: 'normal'>,\n",
      " 'restart': False,\n",
      " 'save_model': None,\n",
      " 'seed': 0,\n",
      " 'sign_flag': True,\n",
      " 'slurm': '/network/scratch/d/david-a.dobre/2022/Adversarial-Training/configs/slurm/mila-long.yml',\n",
      " 'train_on_clean': False,\n",
      " 'type': <CifarModel.RESNET_18: 'res18'>,\n",
      " 'wandb_entity': 'busycalibrating',\n",
      " 'wandb_group': 'cifar_langevin_1',\n",
      " 'wandb_name': None,\n",
      " 'wandb_project': 'adversarial_training'}\n"
     ]
    }
   ],
   "source": [
    "pprint(vars(args))"
   ]
  },
  {
   "cell_type": "markdown",
   "id": "5339075b-9584-4b82-a794-301bfb5fafb3",
   "metadata": {},
   "source": [
    "## Prepare trainer"
   ]
  },
  {
   "cell_type": "code",
   "execution_count": 13,
   "id": "7b7ee7c1-94e5-4d40-9708-657a25723b33",
   "metadata": {},
   "outputs": [],
   "source": [
    "adv_train = AdversarialTraining(args)"
   ]
  },
  {
   "cell_type": "code",
   "execution_count": 14,
   "id": "e2717300-1d3b-4614-9f6e-b9bc2561629a",
   "metadata": {},
   "outputs": [],
   "source": [
    "adv_train.num_grad = 0\n",
    "torch.manual_seed(adv_train.seed)\n",
    "adv_train.device = \"cuda\" if torch.cuda.is_available() else \"cpu\""
   ]
  },
  {
   "cell_type": "markdown",
   "id": "16b426a1-1d63-4d19-a954-8439b1630b70",
   "metadata": {},
   "source": [
    "### Load and prepare datasets, dataloaders, and attackers"
   ]
  },
  {
   "cell_type": "code",
   "execution_count": 15,
   "id": "4d3e3553-0b48-4385-8ec8-b3f06c93ea9b",
   "metadata": {},
   "outputs": [
    {
     "name": "stdout",
     "output_type": "stream",
     "text": [
      "Files already downloaded and verified\n"
     ]
    }
   ],
   "source": [
    "dataset = load_dataset(adv_train.dataset, train=True)"
   ]
  },
  {
   "cell_type": "code",
   "execution_count": 16,
   "id": "c3057454-1b49-4e1c-bcc1-b235cc4e5e30",
   "metadata": {},
   "outputs": [
    {
     "name": "stdout",
     "output_type": "stream",
     "text": [
      "Files already downloaded and verified\n"
     ]
    }
   ],
   "source": [
    "adv_train._dataset = AdversarialDataset(dataset, n_adv=adv_train.n_adv)\n",
    "adv_train.dataloader = DataLoader(adv_train._dataset, batch_size=adv_train.batch_size, shuffle=True, num_workers=4)\n",
    "\n",
    "test_dataset = load_dataset(adv_train.dataset, train=False)\n",
    "adv_train.test_dataloader = DataLoader(test_dataset, batch_size=adv_train.batch_size, shuffle=False, num_workers=4)"
   ]
  },
  {
   "cell_type": "markdown",
   "id": "4b04e9ab-4553-4441-ab55-63444f8aff10",
   "metadata": {},
   "source": [
    "### Prepare model and optimzers"
   ]
  },
  {
   "cell_type": "code",
   "execution_count": 17,
   "id": "242ec614-a74f-443b-9165-2918b1cee560",
   "metadata": {},
   "outputs": [],
   "source": [
    "adv_train.model = load_classifier(adv_train.dataset, adv_train.type, device=adv_train.device, eval=False)"
   ]
  },
  {
   "cell_type": "code",
   "execution_count": 18,
   "id": "b2a625ca-4e9f-4364-9d72-80e831486d6d",
   "metadata": {},
   "outputs": [],
   "source": [
    "adv_train.opt = optim.SGD(adv_train.model.parameters(), lr=adv_train.lr)\n",
    "adv_train.loss_fn = nn.CrossEntropyLoss()\n",
    "adv_train.attacker = Attacker.load_attacker(adv_train.model, adv_train.args)"
   ]
  },
  {
   "cell_type": "code",
   "execution_count": 19,
   "id": "9a469874-3f1a-44cf-8dbe-5f9e396b43ef",
   "metadata": {},
   "outputs": [
    {
     "data": {
      "text/plain": [
       "<adv_train.dynamic.langevin.Langevin at 0x7f34e79220a0>"
      ]
     },
     "execution_count": 19,
     "metadata": {},
     "output_type": "execute_result"
    }
   ],
   "source": [
    "adv_train.attacker"
   ]
  },
  {
   "cell_type": "markdown",
   "id": "d5e0db88-9115-441a-8451-87b86fba9070",
   "metadata": {},
   "source": [
    "# Run Langevin attacker over all training data"
   ]
  },
  {
   "cell_type": "code",
   "execution_count": 20,
   "id": "a39e6f3a-9c55-44aa-9314-efe681526d30",
   "metadata": {},
   "outputs": [
    {
     "name": "stderr",
     "output_type": "stream",
     "text": [
      "100%|███████████████████████████████████████████████████████████████████████████████████████████████████████████████████████████████████████████████████████████████████████████████████████████| 391/391 [00:50<00:00,  7.70it/s]\n"
     ]
    }
   ],
   "source": [
    "train_err, train_loss = adv_train.epoch_adversarial_lan()"
   ]
  },
  {
   "cell_type": "code",
   "execution_count": 21,
   "id": "a1fc0020-21b9-4904-9ce2-a7180d645b23",
   "metadata": {},
   "outputs": [
    {
     "name": "stdout",
     "output_type": "stream",
     "text": [
      "72.974 0.015341595196723939\n"
     ]
    }
   ],
   "source": [
    "print(train_err, train_loss)"
   ]
  },
  {
   "cell_type": "code",
   "execution_count": 22,
   "id": "d6989d3f-b71d-4304-85ad-71ae66844c42",
   "metadata": {},
   "outputs": [
    {
     "data": {
      "text/plain": [
       "tensor([[[[-0.5060, -0.6940, -0.5766,  ...,  0.2080,  0.2234,  0.1295],\n",
       "          [-0.8433, -0.9688, -0.8901,  ..., -0.0665, -0.0979, -0.0744],\n",
       "          [-0.7727, -0.9058, -0.5844,  ..., -0.1058, -0.0901, -0.1138],\n",
       "          ...,\n",
       "          [ 0.6001,  0.5452,  0.5842,  ...,  0.2862, -0.5295, -0.6156],\n",
       "          [ 0.3805,  0.3256,  0.4276,  ...,  0.4119, -0.2705, -0.3803],\n",
       "          [ 0.4195,  0.2864,  0.3727,  ...,  0.6629,  0.1531, -0.0665]],\n",
       "\n",
       "         [[-0.5450, -0.6705, -0.5923,  ...,  0.0040, -0.0509,  0.0038],\n",
       "          [-0.8744, -0.9688, -0.9685,  ..., -0.2786, -0.3178, -0.3489],\n",
       "          [-0.8430, -0.9763, -0.7570,  ..., -0.3099, -0.3724, -0.3962],\n",
       "          ...,\n",
       "          [ 0.3021,  0.1688,  0.2315,  ...,  0.0744, -0.7881, -0.7646],\n",
       "          [ 0.0589, -0.0040,  0.0982,  ...,  0.1295, -0.5450, -0.5531],\n",
       "          [ 0.1607,  0.0430,  0.0825,  ...,  0.4119, -0.1058, -0.3097]],\n",
       "\n",
       "         [[-0.5371, -0.6158, -0.6940,  ..., -0.1217, -0.1687, -0.1609],\n",
       "          [-0.8119, -0.9688, -1.0000,  ..., -0.5999, -0.5766, -0.5217],\n",
       "          [-0.8665, -1.0000, -0.9060,  ..., -0.5766, -0.5766, -0.6393],\n",
       "          ...,\n",
       "          [-0.2158, -0.7021, -0.7648,  ..., -0.4197, -0.9138, -0.8744],\n",
       "          [-0.2158, -0.7018, -0.7335,  ..., -0.2940, -0.7646, -0.7021],\n",
       "          [-0.0589, -0.2315, -0.3489,  ...,  0.1293, -0.3099, -0.4040]]]])"
      ]
     },
     "execution_count": 22,
     "metadata": {},
     "output_type": "execute_result"
    }
   ],
   "source": [
    "adv_train._dataset.adv[0]"
   ]
  },
  {
   "cell_type": "code",
   "execution_count": 23,
   "id": "e5606b1a-f7f5-44f5-8905-78896499bdf6",
   "metadata": {},
   "outputs": [
    {
     "data": {
      "text/plain": [
       "(tensor([[[-0.5373, -0.6627, -0.6078,  ...,  0.2392,  0.1922,  0.1608],\n",
       "          [-0.8745, -1.0000, -0.8588,  ..., -0.0353, -0.0667, -0.0431],\n",
       "          [-0.8039, -0.8745, -0.6157,  ..., -0.0745, -0.0588, -0.1451],\n",
       "          ...,\n",
       "          [ 0.6314,  0.5765,  0.5529,  ...,  0.2549, -0.5608, -0.5843],\n",
       "          [ 0.4118,  0.3569,  0.4588,  ...,  0.4431, -0.2392, -0.3490],\n",
       "          [ 0.3882,  0.3176,  0.4039,  ...,  0.6941,  0.1843, -0.0353]],\n",
       " \n",
       "         [[-0.5137, -0.6392, -0.6235,  ...,  0.0353, -0.0196, -0.0275],\n",
       "          [-0.8431, -1.0000, -0.9373,  ..., -0.3098, -0.3490, -0.3176],\n",
       "          [-0.8118, -0.9451, -0.7882,  ..., -0.3412, -0.3412, -0.4275],\n",
       "          ...,\n",
       "          [ 0.3333,  0.2000,  0.2627,  ...,  0.0431, -0.7569, -0.7333],\n",
       "          [ 0.0902, -0.0353,  0.1294,  ...,  0.1608, -0.5137, -0.5843],\n",
       "          [ 0.1294,  0.0118,  0.1137,  ...,  0.4431, -0.0745, -0.2784]],\n",
       " \n",
       "         [[-0.5059, -0.6471, -0.6627,  ..., -0.1529, -0.2000, -0.1922],\n",
       "          [-0.8431, -1.0000, -1.0000,  ..., -0.5686, -0.6078, -0.5529],\n",
       "          [-0.8353, -1.0000, -0.9373,  ..., -0.6078, -0.6078, -0.6706],\n",
       "          ...,\n",
       "          [-0.2471, -0.7333, -0.7961,  ..., -0.4510, -0.9451, -0.8431],\n",
       "          [-0.2471, -0.6706, -0.7647,  ..., -0.2627, -0.7333, -0.7333],\n",
       "          [-0.0902, -0.2627, -0.3176,  ...,  0.0980, -0.3412, -0.4353]]]),\n",
       " 6,\n",
       " tensor([[[-0.5060, -0.6940, -0.5766,  ...,  0.2080,  0.2234,  0.1295],\n",
       "          [-0.8433, -0.9688, -0.8901,  ..., -0.0665, -0.0979, -0.0744],\n",
       "          [-0.7727, -0.9058, -0.5844,  ..., -0.1058, -0.0901, -0.1138],\n",
       "          ...,\n",
       "          [ 0.6001,  0.5452,  0.5842,  ...,  0.2862, -0.5295, -0.6156],\n",
       "          [ 0.3805,  0.3256,  0.4276,  ...,  0.4119, -0.2705, -0.3803],\n",
       "          [ 0.4195,  0.2864,  0.3727,  ...,  0.6629,  0.1531, -0.0665]],\n",
       " \n",
       "         [[-0.5450, -0.6705, -0.5923,  ...,  0.0040, -0.0509,  0.0038],\n",
       "          [-0.8744, -0.9688, -0.9685,  ..., -0.2786, -0.3178, -0.3489],\n",
       "          [-0.8430, -0.9763, -0.7570,  ..., -0.3099, -0.3724, -0.3962],\n",
       "          ...,\n",
       "          [ 0.3021,  0.1688,  0.2315,  ...,  0.0744, -0.7881, -0.7646],\n",
       "          [ 0.0589, -0.0040,  0.0982,  ...,  0.1295, -0.5450, -0.5531],\n",
       "          [ 0.1607,  0.0430,  0.0825,  ...,  0.4119, -0.1058, -0.3097]],\n",
       " \n",
       "         [[-0.5371, -0.6158, -0.6940,  ..., -0.1217, -0.1687, -0.1609],\n",
       "          [-0.8119, -0.9688, -1.0000,  ..., -0.5999, -0.5766, -0.5217],\n",
       "          [-0.8665, -1.0000, -0.9060,  ..., -0.5766, -0.5766, -0.6393],\n",
       "          ...,\n",
       "          [-0.2158, -0.7021, -0.7648,  ..., -0.4197, -0.9138, -0.8744],\n",
       "          [-0.2158, -0.7018, -0.7335,  ..., -0.2940, -0.7646, -0.7021],\n",
       "          [-0.0589, -0.2315, -0.3489,  ...,  0.1293, -0.3099, -0.4040]]]),\n",
       " (0, 0))"
      ]
     },
     "execution_count": 23,
     "metadata": {},
     "output_type": "execute_result"
    }
   ],
   "source": [
    "adv_train._dataset[0]"
   ]
  },
  {
   "cell_type": "code",
   "execution_count": null,
   "id": "bee2a22f-b4b2-4f57-93fb-6378a72ca37f",
   "metadata": {},
   "outputs": [],
   "source": []
  },
  {
   "cell_type": "code",
   "execution_count": 45,
   "id": "2d912ee1-ef3f-46b0-a91f-57236d7b43e6",
   "metadata": {},
   "outputs": [],
   "source": [
    "size = len(adv_train._dataset) \n",
    "\n",
    "idx = np.arange(size)\n",
    "idx2 = np.zeros(size)"
   ]
  },
  {
   "cell_type": "code",
   "execution_count": 46,
   "id": "632e5572-443b-4d4e-9029-1eb1ecf476f4",
   "metadata": {},
   "outputs": [],
   "source": [
    "noise = adv_train._dataset.compute_noise(idx, idx2)"
   ]
  },
  {
   "cell_type": "code",
   "execution_count": 62,
   "id": "d36009a1-1fc2-483b-a291-2cab5a24768a",
   "metadata": {},
   "outputs": [],
   "source": [
    "data = noise.flatten() # / noise.absolute().max()"
   ]
  },
  {
   "cell_type": "code",
   "execution_count": 48,
   "id": "6b5553ce-3fe3-413c-8395-4c06c9c5f993",
   "metadata": {},
   "outputs": [],
   "source": [
    "# plt.figure(figsize=(8, 6), dpi=80)\n",
    "# sns.displot((noise.flatten() / noise.absolute().max()))"
   ]
  },
  {
   "cell_type": "code",
   "execution_count": 49,
   "id": "b5a5f32b-1945-4162-b6cf-20f256dfb124",
   "metadata": {},
   "outputs": [],
   "source": [
    "# data.numpy()"
   ]
  },
  {
   "cell_type": "code",
   "execution_count": 64,
   "id": "0706a48b-a40a-4d56-ad7e-102380098886",
   "metadata": {},
   "outputs": [],
   "source": [
    "# len(data)"
   ]
  },
  {
   "cell_type": "code",
   "execution_count": 65,
   "id": "9d60c143-b49a-4e12-85a7-660178d1ac54",
   "metadata": {},
   "outputs": [],
   "source": [
    "def value_hist(ds: AdversarialDataset, epoch: int):\n",
    "    size = len(ds)\n",
    "    idx = np.arange(size)\n",
    "    idx2 = np.zeros(size)\n",
    "    \n",
    "    noise = ds.compute_noise(idx, idx2)\n",
    "    data = noise.flatten() # / noise.absolute().max()\n",
    "    \n",
    "    # Create just a figure and only one subplot\n",
    "    fig, ax = plt.subplots(1, 1, dpi=120, figsize=(7,5))\n",
    "    ax.set_title(f'Perturbation histogram: epoch {epoch}')\n",
    "    ax.semilogy()\n",
    "    ax.set_ylim([0, 10**9])\n",
    "    # ax.plot(x, y)\n",
    "    sns.histplot(data.numpy(), ax=ax, bins=9)\n",
    "    return fig"
   ]
  },
  {
   "cell_type": "code",
   "execution_count": 66,
   "id": "6513a131-ebe3-438c-bced-6b47ef8927ca",
   "metadata": {},
   "outputs": [],
   "source": [
    "# # Create just a figure and only one subplot\n",
    "# fig, ax = plt.subplots(1, 1, dpi=120, figsize=(7,5))\n",
    "# ax.set_title('Blep')\n",
    "# ax.semilogy()\n",
    "# ax.set_ylim([0, 10**9])\n",
    "# # ax.plot(x, y)\n",
    "# sns.histplot(data.numpy(), ax=ax, bins=9) "
   ]
  },
  {
   "cell_type": "code",
   "execution_count": null,
   "id": "6b715d77-c3a4-49f6-ad22-08f412f4822a",
   "metadata": {},
   "outputs": [
    {
     "name": "stderr",
     "output_type": "stream",
     "text": [
      "/tmp/ipykernel_37960/2630979572.py:13: UserWarning: Attempted to set non-positive bottom ylim on a log-scaled axis.\n",
      "Invalid limit will be ignored.\n",
      "  ax.set_ylim([0, 10**9])\n"
     ]
    }
   ],
   "source": [
    "fig = value_hist(adv_train._dataset, 1)"
   ]
  },
  {
   "cell_type": "code",
   "execution_count": null,
   "id": "23e252bf-075e-48f5-8a59-d2b462fbd1da",
   "metadata": {},
   "outputs": [],
   "source": [
    "fig.show()"
   ]
  },
  {
   "cell_type": "code",
   "execution_count": 61,
   "id": "8168e6d6-ffc9-4a83-ab88-fc41fe9a4344",
   "metadata": {},
   "outputs": [
    {
     "data": {
      "text/html": [
       "\n",
       "                    Syncing run <strong><a href=\"https://wandb.ai/busycalibrating/tests/runs/22b108g1\" target=\"_blank\">wandering-capybara-6</a></strong> to <a href=\"https://wandb.ai/busycalibrating/tests\" target=\"_blank\">Weights & Biases</a> (<a href=\"https://docs.wandb.com/integrations/jupyter.html\" target=\"_blank\">docs</a>).<br/>\n",
       "\n",
       "                "
      ],
      "text/plain": [
       "<IPython.core.display.HTML object>"
      ]
     },
     "metadata": {},
     "output_type": "display_data"
    },
    {
     "data": {
      "text/html": [
       "<br/>Waiting for W&B process to finish, PID 82103... <strong style=\"color:green\">(success).</strong>"
      ],
      "text/plain": [
       "<IPython.core.display.HTML object>"
      ]
     },
     "metadata": {},
     "output_type": "display_data"
    },
    {
     "data": {
      "application/vnd.jupyter.widget-view+json": {
       "model_id": "",
       "version_major": 2,
       "version_minor": 0
      },
      "text/plain": [
       "VBox(children=(Label(value=' 0.00MB of 0.02MB uploaded (0.00MB deduped)\\r'), FloatProgress(value=0.06060233558…"
      ]
     },
     "metadata": {},
     "output_type": "display_data"
    },
    {
     "data": {
      "text/html": [
       "<style>\n",
       "    table.wandb td:nth-child(1) { padding: 0 10px; text-align: right }\n",
       "    .wandb-row { display: flex; flex-direction: row; flex-wrap: wrap; width: 100% }\n",
       "    .wandb-col { display: flex; flex-direction: column; flex-basis: 100%; flex: 1; padding: 10px; }\n",
       "    </style>\n",
       "<div class=\"wandb-row\"><div class=\"wandb-col\">\n",
       "</div><div class=\"wandb-col\">\n",
       "</div></div>\n",
       "Synced 4 W&B file(s), 1 media file(s), 0 artifact file(s) and 0 other file(s)\n",
       "<br/>Synced <strong style=\"color:#cdcd00\">wandering-capybara-6</strong>: <a href=\"https://wandb.ai/busycalibrating/tests/runs/22b108g1\" target=\"_blank\">https://wandb.ai/busycalibrating/tests/runs/22b108g1</a><br/>\n",
       "Find logs at: <code>./wandb/run-20220206_214530-22b108g1/logs</code><br/>\n"
      ],
      "text/plain": [
       "<IPython.core.display.HTML object>"
      ]
     },
     "metadata": {},
     "output_type": "display_data"
    }
   ],
   "source": [
    "with wandb.init(entity=\"busycalibrating\", project=\"tests\", name=\"pls_work\") as run:\n",
    "    # tips = sns.load_dataset(\"tips\")\n",
    "    # fig, ax = plt.subplots(figsize=(11.7, 8.27))\n",
    "    # sns.scatterplot(data=tips, x=\"total_bill\", y=\"tip\")\n",
    "    wandb.log({\"plot\":wandb.Image(fig)})"
   ]
  },
  {
   "cell_type": "code",
   "execution_count": null,
   "id": "be9d3b17-d510-431c-8b2f-ff75fce98e62",
   "metadata": {},
   "outputs": [],
   "source": []
  },
  {
   "cell_type": "code",
   "execution_count": null,
   "id": "63f254ab-51d5-4653-a4f2-2c7b3b7641b3",
   "metadata": {},
   "outputs": [],
   "source": []
  }
 ],
 "metadata": {
  "kernelspec": {
   "display_name": "ffcv",
   "language": "python",
   "name": "ffcv"
  },
  "language_info": {
   "codemirror_mode": {
    "name": "ipython",
    "version": 3
   },
   "file_extension": ".py",
   "mimetype": "text/x-python",
   "name": "python",
   "nbconvert_exporter": "python",
   "pygments_lexer": "ipython3",
   "version": "3.9.9"
  }
 },
 "nbformat": 4,
 "nbformat_minor": 5
}
